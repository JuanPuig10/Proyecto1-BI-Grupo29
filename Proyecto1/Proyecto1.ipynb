{
 "cells": [
  {
   "cell_type": "markdown",
   "id": "82f54200-7bbd-4dc6-8f39-ffbb99ebc2d8",
   "metadata": {},
   "source": [
    "# Proyecto Etapa 1\n",
    "\n",
    "### Integrantes:\n",
    "1. Juan Puig - Líder de proyecto\n",
    "2. Mateo Parra - Líder de datos\n",
    "3. Juan Garcia - Líder de analitica\n",
    "\n"
   ]
  },
  {
   "cell_type": "markdown",
   "id": "5576c72a",
   "metadata": {},
   "source": [
    "#  Detección de Noticias Falsas en Política\n",
    "\n",
    "Este notebook es parte del primer proyecto de analítica de textos para el curso ISIS-3301 – Inteligencia de Negocios. \n",
    "\n",
    "Se busca detectar noticias falsas y extraer palabras clave que apoyen la toma de decisiones en contextos políticos.\n",
    "\n",
    "La etapa inicial abarca la preparación de datos, el preprocesamiento de textos y la implementación de modelos de aprendizaje automático, incluyendo regresión logística, Random Forest y ... , para clasificar noticias como verdaderas o falsas.\n"
   ]
  },
  {
   "cell_type": "markdown",
   "id": "54ee4c8e",
   "metadata": {},
   "source": [
    "# Entendimiento de datos:"
   ]
  },
  {
   "cell_type": "markdown",
   "id": "b169021a-8e75-44d0-a7a3-30a5340b0ab1",
   "metadata": {},
   "source": [
    "### INSTALACION DE LIBRERIAS"
   ]
  },
  {
   "cell_type": "code",
   "execution_count": 1,
   "id": "5d69dea9-80c4-4209-94bd-4edec9a028f5",
   "metadata": {},
   "outputs": [
    {
     "name": "stdout",
     "output_type": "stream",
     "text": [
      "Requirement already satisfied: contractions in c:\\users\\wired\\anaconda3\\lib\\site-packages (0.1.73)\n",
      "Requirement already satisfied: textsearch>=0.0.21 in c:\\users\\wired\\anaconda3\\lib\\site-packages (from contractions) (0.0.24)\n",
      "Requirement already satisfied: anyascii in c:\\users\\wired\\anaconda3\\lib\\site-packages (from textsearch>=0.0.21->contractions) (0.3.2)\n",
      "Requirement already satisfied: pyahocorasick in c:\\users\\wired\\anaconda3\\lib\\site-packages (from textsearch>=0.0.21->contractions) (2.1.0)\n",
      "Note: you may need to restart the kernel to use updated packages.\n"
     ]
    }
   ],
   "source": [
    "# Librería para manejar las contracciones que se presentan en el inglés.\n",
    "%pip install contractions"
   ]
  },
  {
   "cell_type": "code",
   "execution_count": 2,
   "id": "aad0d839-c2aa-4b27-8df2-47de175fc686",
   "metadata": {},
   "outputs": [
    {
     "name": "stdout",
     "output_type": "stream",
     "text": [
      "Requirement already satisfied: inflect in c:\\users\\wired\\anaconda3\\lib\\site-packages (7.5.0)Note: you may need to restart the kernel to use updated packages.\n",
      "\n",
      "Requirement already satisfied: more_itertools>=8.5.0 in c:\\users\\wired\\anaconda3\\lib\\site-packages (from inflect) (10.3.0)\n",
      "Requirement already satisfied: typeguard>=4.0.1 in c:\\users\\wired\\anaconda3\\lib\\site-packages (from inflect) (4.4.2)\n",
      "Requirement already satisfied: typing_extensions>=4.10.0 in c:\\users\\wired\\anaconda3\\lib\\site-packages (from typeguard>=4.0.1->inflect) (4.11.0)\n",
      "Requirement already satisfied: scikit-plot in c:\\users\\wired\\anaconda3\\lib\\site-packages (0.3.7)\n",
      "Requirement already satisfied: matplotlib>=1.4.0 in c:\\users\\wired\\anaconda3\\lib\\site-packages (from scikit-plot) (3.9.2)\n",
      "Requirement already satisfied: scikit-learn>=0.18 in c:\\users\\wired\\anaconda3\\lib\\site-packages (from scikit-plot) (1.5.1)\n",
      "Requirement already satisfied: scipy>=0.9 in c:\\users\\wired\\anaconda3\\lib\\site-packages (from scikit-plot) (1.13.1)\n",
      "Requirement already satisfied: joblib>=0.10 in c:\\users\\wired\\anaconda3\\lib\\site-packages (from scikit-plot) (1.1.1)\n",
      "Requirement already satisfied: contourpy>=1.0.1 in c:\\users\\wired\\anaconda3\\lib\\site-packages (from matplotlib>=1.4.0->scikit-plot) (1.2.0)\n",
      "Requirement already satisfied: cycler>=0.10 in c:\\users\\wired\\anaconda3\\lib\\site-packages (from matplotlib>=1.4.0->scikit-plot) (0.11.0)\n",
      "Requirement already satisfied: fonttools>=4.22.0 in c:\\users\\wired\\anaconda3\\lib\\site-packages (from matplotlib>=1.4.0->scikit-plot) (4.51.0)\n",
      "Requirement already satisfied: kiwisolver>=1.3.1 in c:\\users\\wired\\anaconda3\\lib\\site-packages (from matplotlib>=1.4.0->scikit-plot) (1.4.4)\n",
      "Requirement already satisfied: numpy>=1.23 in c:\\users\\wired\\anaconda3\\lib\\site-packages (from matplotlib>=1.4.0->scikit-plot) (1.26.4)\n",
      "Requirement already satisfied: packaging>=20.0 in c:\\users\\wired\\anaconda3\\lib\\site-packages (from matplotlib>=1.4.0->scikit-plot) (24.1)\n",
      "Requirement already satisfied: pillow>=8 in c:\\users\\wired\\anaconda3\\lib\\site-packages (from matplotlib>=1.4.0->scikit-plot) (10.4.0)\n",
      "Requirement already satisfied: pyparsing>=2.3.1 in c:\\users\\wired\\anaconda3\\lib\\site-packages (from matplotlib>=1.4.0->scikit-plot) (3.1.2)\n",
      "Requirement already satisfied: python-dateutil>=2.7 in c:\\users\\wired\\anaconda3\\lib\\site-packages (from matplotlib>=1.4.0->scikit-plot) (2.9.0.post0)\n",
      "Collecting joblib>=0.10 (from scikit-plot)\n",
      "  Using cached joblib-1.4.2-py3-none-any.whl.metadata (5.4 kB)\n",
      "Requirement already satisfied: threadpoolctl>=3.1.0 in c:\\users\\wired\\anaconda3\\lib\\site-packages (from scikit-learn>=0.18->scikit-plot) (3.5.0)\n",
      "Requirement already satisfied: six>=1.5 in c:\\users\\wired\\anaconda3\\lib\\site-packages (from python-dateutil>=2.7->matplotlib>=1.4.0->scikit-plot) (1.16.0)\n",
      "Using cached joblib-1.4.2-py3-none-any.whl (301 kB)\n",
      "Installing collected packages: joblib\n",
      "  Attempting uninstall: joblib\n",
      "    Found existing installation: joblib 1.1.1\n",
      "    Uninstalling joblib-1.1.1:\n",
      "      Successfully uninstalled joblib-1.1.1\n",
      "Successfully installed joblib-1.4.2\n",
      "Note: you may need to restart the kernel to use updated packages.\n"
     ]
    },
    {
     "name": "stderr",
     "output_type": "stream",
     "text": [
      "ERROR: pip's dependency resolver does not currently take into account all the packages that are installed. This behaviour is the source of the following dependency conflicts.\n",
      "pandas-profiling 3.2.0 requires joblib~=1.1.0, but you have joblib 1.4.2 which is incompatible.\n"
     ]
    }
   ],
   "source": [
    "# librería para manejar las flexiones gramaticales en el idioma inglés.\n",
    "%pip install inflect\n",
    "# Manejo de gráficas\n",
    "%pip install scikit-plot"
   ]
  },
  {
   "cell_type": "code",
   "execution_count": 3,
   "id": "c2440f40-aef6-42fd-bdc9-d32e8af4a28e",
   "metadata": {},
   "outputs": [
    {
     "name": "stderr",
     "output_type": "stream",
     "text": [
      "[nltk_data] Downloading package punkt to\n",
      "[nltk_data]     C:\\Users\\wired\\AppData\\Roaming\\nltk_data...\n",
      "[nltk_data]   Package punkt is already up-to-date!\n"
     ]
    },
    {
     "data": {
      "text/plain": [
       "True"
      ]
     },
     "execution_count": 3,
     "metadata": {},
     "output_type": "execute_result"
    }
   ],
   "source": [
    "# librería Natural Language Toolkit, usada para trabajar con textos\n",
    "import nltk\n",
    "# Punkt permite separar un texto en frases.\n",
    "nltk.download('punkt')"
   ]
  },
  {
   "cell_type": "code",
   "execution_count": 4,
   "id": "0145afcc-fce7-412d-a696-f4142fadd7ce",
   "metadata": {},
   "outputs": [
    {
     "name": "stderr",
     "output_type": "stream",
     "text": [
      "[nltk_data] Downloading package stopwords to\n",
      "[nltk_data]     C:\\Users\\wired\\AppData\\Roaming\\nltk_data...\n",
      "[nltk_data]   Package stopwords is already up-to-date!\n"
     ]
    },
    {
     "data": {
      "text/plain": [
       "True"
      ]
     },
     "execution_count": 4,
     "metadata": {},
     "output_type": "execute_result"
    }
   ],
   "source": [
    "# Descarga todas las palabras vacias, es decir, aquellas que no aportan nada al significado del texto\n",
    "# ¿Cuales son esas palabras vacías?\n",
    "\n",
    "nltk.download('stopwords')"
   ]
  },
  {
   "cell_type": "code",
   "execution_count": 5,
   "id": "746e79a3-0a07-4f9f-bfe4-ea57a54bd9ad",
   "metadata": {},
   "outputs": [
    {
     "name": "stderr",
     "output_type": "stream",
     "text": [
      "[nltk_data] Downloading package wordnet to\n",
      "[nltk_data]     C:\\Users\\wired\\AppData\\Roaming\\nltk_data...\n",
      "[nltk_data]   Package wordnet is already up-to-date!\n"
     ]
    },
    {
     "data": {
      "text/plain": [
       "True"
      ]
     },
     "execution_count": 5,
     "metadata": {},
     "output_type": "execute_result"
    }
   ],
   "source": [
    "# Descarga de paquete WordNetLemmatizer, este es usado para encontrar el lema de cada palabra\n",
    "# ¿Qué es el lema de una palabra? ¿Qué tan dificil puede ser obtenerlo, piensa en el caso en que tuvieras que escribir la función que realiza esta tarea?\n",
    "nltk.download('wordnet')"
   ]
  },
  {
   "cell_type": "code",
   "execution_count": 6,
   "id": "a6813d50-dcc3-49ff-b0d3-448e6bd71c4c",
   "metadata": {},
   "outputs": [
    {
     "name": "stderr",
     "output_type": "stream",
     "text": [
      "ERROR: pip's dependency resolver does not currently take into account all the packages that are installed. This behaviour is the source of the following dependency conflicts.\n",
      "scikit-learn 1.5.1 requires joblib>=1.2.0, but you have joblib 1.1.1 which is incompatible.\n"
     ]
    },
    {
     "name": "stdout",
     "output_type": "stream",
     "text": [
      "Requirement already satisfied: pandas-profiling in c:\\users\\wired\\anaconda3\\lib\\site-packages (3.2.0)\n",
      "Collecting joblib~=1.1.0 (from pandas-profiling)\n",
      "  Using cached joblib-1.1.1-py2.py3-none-any.whl.metadata (5.2 kB)\n",
      "Requirement already satisfied: scipy>=1.4.1 in c:\\users\\wired\\anaconda3\\lib\\site-packages (from pandas-profiling) (1.13.1)\n",
      "Requirement already satisfied: pandas!=1.0.0,!=1.0.1,!=1.0.2,!=1.1.0,>=0.25.3 in c:\\users\\wired\\anaconda3\\lib\\site-packages (from pandas-profiling) (2.2.2)\n",
      "Requirement already satisfied: matplotlib>=3.2.0 in c:\\users\\wired\\anaconda3\\lib\\site-packages (from pandas-profiling) (3.9.2)\n",
      "Requirement already satisfied: pydantic>=1.8.1 in c:\\users\\wired\\anaconda3\\lib\\site-packages (from pandas-profiling) (2.8.2)\n",
      "Requirement already satisfied: PyYAML>=5.0.0 in c:\\users\\wired\\anaconda3\\lib\\site-packages (from pandas-profiling) (6.0.1)\n",
      "Requirement already satisfied: jinja2>=2.11.1 in c:\\users\\wired\\anaconda3\\lib\\site-packages (from pandas-profiling) (3.1.4)\n",
      "Requirement already satisfied: markupsafe~=2.1.1 in c:\\users\\wired\\anaconda3\\lib\\site-packages (from pandas-profiling) (2.1.3)\n",
      "Requirement already satisfied: visions==0.7.4 in c:\\users\\wired\\anaconda3\\lib\\site-packages (from visions[type_image_path]==0.7.4->pandas-profiling) (0.7.4)\n",
      "Requirement already satisfied: numpy>=1.16.0 in c:\\users\\wired\\anaconda3\\lib\\site-packages (from pandas-profiling) (1.26.4)\n",
      "Requirement already satisfied: htmlmin>=0.1.12 in c:\\users\\wired\\anaconda3\\lib\\site-packages (from pandas-profiling) (0.1.12)\n",
      "Requirement already satisfied: missingno>=0.4.2 in c:\\users\\wired\\anaconda3\\lib\\site-packages (from pandas-profiling) (0.5.2)\n",
      "Requirement already satisfied: phik>=0.11.1 in c:\\users\\wired\\anaconda3\\lib\\site-packages (from pandas-profiling) (0.12.4)\n",
      "Requirement already satisfied: tangled-up-in-unicode==0.2.0 in c:\\users\\wired\\anaconda3\\lib\\site-packages (from pandas-profiling) (0.2.0)\n",
      "Requirement already satisfied: requests>=2.24.0 in c:\\users\\wired\\anaconda3\\lib\\site-packages (from pandas-profiling) (2.32.3)\n",
      "Requirement already satisfied: tqdm>=4.48.2 in c:\\users\\wired\\anaconda3\\lib\\site-packages (from pandas-profiling) (4.66.5)\n",
      "Requirement already satisfied: seaborn>=0.10.1 in c:\\users\\wired\\anaconda3\\lib\\site-packages (from pandas-profiling) (0.13.2)\n",
      "Requirement already satisfied: multimethod>=1.4 in c:\\users\\wired\\anaconda3\\lib\\site-packages (from pandas-profiling) (2.0)\n",
      "Requirement already satisfied: attrs>=19.3.0 in c:\\users\\wired\\anaconda3\\lib\\site-packages (from visions==0.7.4->visions[type_image_path]==0.7.4->pandas-profiling) (23.1.0)\n",
      "Requirement already satisfied: networkx>=2.4 in c:\\users\\wired\\anaconda3\\lib\\site-packages (from visions==0.7.4->visions[type_image_path]==0.7.4->pandas-profiling) (3.3)\n",
      "Requirement already satisfied: imagehash in c:\\users\\wired\\anaconda3\\lib\\site-packages (from visions[type_image_path]==0.7.4->pandas-profiling) (4.3.2)\n",
      "Requirement already satisfied: Pillow in c:\\users\\wired\\anaconda3\\lib\\site-packages (from visions[type_image_path]==0.7.4->pandas-profiling) (10.4.0)\n",
      "Requirement already satisfied: contourpy>=1.0.1 in c:\\users\\wired\\anaconda3\\lib\\site-packages (from matplotlib>=3.2.0->pandas-profiling) (1.2.0)\n",
      "Requirement already satisfied: cycler>=0.10 in c:\\users\\wired\\anaconda3\\lib\\site-packages (from matplotlib>=3.2.0->pandas-profiling) (0.11.0)\n",
      "Requirement already satisfied: fonttools>=4.22.0 in c:\\users\\wired\\anaconda3\\lib\\site-packages (from matplotlib>=3.2.0->pandas-profiling) (4.51.0)\n",
      "Requirement already satisfied: kiwisolver>=1.3.1 in c:\\users\\wired\\anaconda3\\lib\\site-packages (from matplotlib>=3.2.0->pandas-profiling) (1.4.4)\n",
      "Requirement already satisfied: packaging>=20.0 in c:\\users\\wired\\anaconda3\\lib\\site-packages (from matplotlib>=3.2.0->pandas-profiling) (24.1)\n",
      "Requirement already satisfied: pyparsing>=2.3.1 in c:\\users\\wired\\anaconda3\\lib\\site-packages (from matplotlib>=3.2.0->pandas-profiling) (3.1.2)\n",
      "Requirement already satisfied: python-dateutil>=2.7 in c:\\users\\wired\\anaconda3\\lib\\site-packages (from matplotlib>=3.2.0->pandas-profiling) (2.9.0.post0)\n",
      "Requirement already satisfied: pytz>=2020.1 in c:\\users\\wired\\anaconda3\\lib\\site-packages (from pandas!=1.0.0,!=1.0.1,!=1.0.2,!=1.1.0,>=0.25.3->pandas-profiling) (2024.1)\n",
      "Requirement already satisfied: tzdata>=2022.7 in c:\\users\\wired\\anaconda3\\lib\\site-packages (from pandas!=1.0.0,!=1.0.1,!=1.0.2,!=1.1.0,>=0.25.3->pandas-profiling) (2023.3)\n",
      "Requirement already satisfied: annotated-types>=0.4.0 in c:\\users\\wired\\anaconda3\\lib\\site-packages (from pydantic>=1.8.1->pandas-profiling) (0.6.0)\n",
      "Requirement already satisfied: pydantic-core==2.20.1 in c:\\users\\wired\\anaconda3\\lib\\site-packages (from pydantic>=1.8.1->pandas-profiling) (2.20.1)\n",
      "Requirement already satisfied: typing-extensions>=4.6.1 in c:\\users\\wired\\anaconda3\\lib\\site-packages (from pydantic>=1.8.1->pandas-profiling) (4.11.0)\n",
      "Requirement already satisfied: charset-normalizer<4,>=2 in c:\\users\\wired\\anaconda3\\lib\\site-packages (from requests>=2.24.0->pandas-profiling) (3.3.2)\n",
      "Requirement already satisfied: idna<4,>=2.5 in c:\\users\\wired\\anaconda3\\lib\\site-packages (from requests>=2.24.0->pandas-profiling) (3.7)\n",
      "Requirement already satisfied: urllib3<3,>=1.21.1 in c:\\users\\wired\\anaconda3\\lib\\site-packages (from requests>=2.24.0->pandas-profiling) (2.2.3)\n",
      "Requirement already satisfied: certifi>=2017.4.17 in c:\\users\\wired\\anaconda3\\lib\\site-packages (from requests>=2.24.0->pandas-profiling) (2025.1.31)\n",
      "Requirement already satisfied: colorama in c:\\users\\wired\\anaconda3\\lib\\site-packages (from tqdm>=4.48.2->pandas-profiling) (0.4.6)\n",
      "Requirement already satisfied: six>=1.5 in c:\\users\\wired\\anaconda3\\lib\\site-packages (from python-dateutil>=2.7->matplotlib>=3.2.0->pandas-profiling) (1.16.0)\n",
      "Requirement already satisfied: PyWavelets in c:\\users\\wired\\anaconda3\\lib\\site-packages (from imagehash->visions[type_image_path]==0.7.4->pandas-profiling) (1.7.0)\n",
      "Using cached joblib-1.1.1-py2.py3-none-any.whl (309 kB)\n",
      "Installing collected packages: joblib\n",
      "  Attempting uninstall: joblib\n",
      "    Found existing installation: joblib 1.4.2\n",
      "    Uninstalling joblib-1.4.2:\n",
      "      Successfully uninstalled joblib-1.4.2\n",
      "Successfully installed joblib-1.1.1\n"
     ]
    }
   ],
   "source": [
    "# Instalación de librerias\n",
    "import pandas as pd\n",
    "import numpy as np\n",
    "import sys\n",
    "!{sys.executable} -m pip install pandas-profiling\n",
    "\n",
    "import re, string, unicodedata\n",
    "import contractions\n",
    "import inflect\n",
    "from nltk import word_tokenize, sent_tokenize\n",
    "from nltk.corpus import stopwords\n",
    "from nltk.stem import LancasterStemmer, WordNetLemmatizer\n",
    "\n",
    "from sklearn.model_selection import train_test_split,GridSearchCV\n",
    "from sklearn.feature_extraction.text import TfidfVectorizer, CountVectorizer, HashingVectorizer\n",
    "from sklearn.pipeline import Pipeline, FeatureUnion\n",
    "from sklearn.svm import SVC\n",
    "from sklearn.ensemble import BaggingClassifier, RandomForestClassifier, AdaBoostClassifier\n",
    "from sklearn.naive_bayes import BernoulliNB\n",
    "from sklearn.metrics import classification_report, confusion_matrix\n",
    "\n",
    "\n",
    "from sklearn.base import BaseEstimator, ClassifierMixin\n",
    "\n",
    "import matplotlib.pyplot as plt"
   ]
  },
  {
   "cell_type": "markdown",
   "id": "943cc72c-00c2-4f5d-a4cf-e64dace43036",
   "metadata": {},
   "source": [
    "# ENTENDIMIENTO DE DATOS \n"
   ]
  },
  {
   "cell_type": "code",
   "execution_count": 7,
   "id": "0d1fbe08-b2dc-44ba-ac88-4741782ef4e9",
   "metadata": {},
   "outputs": [
    {
     "name": "stdout",
     "output_type": "stream",
     "text": [
      "Información general del dataset:\n",
      "<class 'pandas.core.frame.DataFrame'>\n",
      "RangeIndex: 57063 entries, 0 to 57062\n",
      "Data columns (total 5 columns):\n",
      " #   Column       Non-Null Count  Dtype \n",
      "---  ------       --------------  ----- \n",
      " 0   ID           57063 non-null  object\n",
      " 1   Label        57063 non-null  int64 \n",
      " 2   Titulo       57047 non-null  object\n",
      " 3   Descripcion  57063 non-null  object\n",
      " 4   Fecha        57063 non-null  object\n",
      "dtypes: int64(1), object(4)\n",
      "memory usage: 2.2+ MB\n",
      "None\n",
      "\n",
      "Primeras 5 filas del dataset:\n",
      "   ID  Label                                             Titulo  \\\n",
      "0  ID      1  'The Guardian' va con SÃ¡nchez: 'Europa necesi...   \n",
      "1  ID      0  REVELAN QUE EL GOBIERNO NEGOCIO LA LIBERACIÃN...   \n",
      "2  ID      1  El 'Ahora o nunca' de Joan Fuster sobre el est...   \n",
      "3  ID      1  Iglesias alienta a Yolanda DÃ­az, ERC y EH Bil...   \n",
      "4  ID      0  Puigdemont: 'No serÃ­a ninguna tragedia una re...   \n",
      "\n",
      "                                         Descripcion       Fecha  \n",
      "0  El diario britÃ¡nico publicÃ³ este pasado juev...  02/06/2023  \n",
      "1  REVELAN QUE EL GOBIERNO NEGOCIO LA LIBERACIÃN...  01/10/2023  \n",
      "2  El valencianismo convoca en CastellÃ³ su fiest...  25/04/2022  \n",
      "3  En polÃ­tica, igual que hay que negociar con l...  03/01/2022  \n",
      "4  En una entrevista en El Punt Avui, el lÃ­der d...  09/03/2018  \n",
      "\n",
      "Resumen estadístico de variables numéricas:\n",
      "              Label\n",
      "count  57063.000000\n",
      "mean       0.581077\n",
      "std        0.493387\n",
      "min        0.000000\n",
      "25%        0.000000\n",
      "50%        1.000000\n",
      "75%        1.000000\n",
      "max        1.000000\n",
      "\n",
      "Distribución de etiquetas (0 = Falso, 1 = Verdadero):\n",
      "Label\n",
      "1    33158\n",
      "0    23905\n",
      "Name: count, dtype: int64\n"
     ]
    },
    {
     "data": {
      "image/png": "[encoded data removed]",
      "text/plain": [
       "<Figure size 600x400 with 1 Axes>"
      ]
     },
     "metadata": {},
     "output_type": "display_data"
    },
    {
     "name": "stdout",
     "output_type": "stream",
     "text": [
      "\n",
      "Estadísticas de longitud de títulos:\n",
      "         count       mean       std  min   25%   50%   75%   max\n",
      "Label                                                           \n",
      "0      23905.0  16.507216  4.256811  1.0  14.0  17.0  19.0  37.0\n",
      "1      33158.0  15.877586  3.739223  1.0  13.0  16.0  19.0  43.0\n",
      "\n",
      "Estadísticas de longitud de descripciones:\n",
      "         count       mean        std  min   25%   50%   75%     max\n",
      "Label                                                              \n",
      "0      23905.0  40.941686  38.215471  4.0  29.0  37.0  46.0  2470.0\n",
      "1      33158.0  39.824869  49.102159  4.0  28.0  36.0  43.0  2243.0\n"
     ]
    }
   ],
   "source": [
    "import pandas as pd\n",
    "import matplotlib.pyplot as plt\n",
    "import seaborn as sns\n",
    "from collections import Counter\n",
    "\n",
    "# Ruta del archivo CSV (ajusta este path según donde tengas tu archivo)\n",
    "file_path = \"fake_news_spanish.csv\"  # Cambia esto a la ruta real de tu archivo\n",
    "\n",
    "# Cargar el dataset\n",
    "df = pd.read_csv(file_path, sep=\";\", encoding=\"ISO-8859-1\")\n",
    "\n",
    "news = df.copy()\n",
    "# Mostrar información general del dataset\n",
    "print(\"Información general del dataset:\")\n",
    "print(news.info())\n",
    "\n",
    "# Mostrar las primeras filas para entender la estructura\n",
    "print(\"\\nPrimeras 5 filas del dataset:\")\n",
    "print(news.head())\n",
    "\n",
    "# Resumen estadístico de las variables numéricas\n",
    "print(\"\\nResumen estadístico de variables numéricas:\")\n",
    "print(news.describe())\n",
    "\n",
    "# ---- Análisis y visualizaciones ----\n",
    "\n",
    "# 1. Distribución de etiquetas (Label)\n",
    "label_counts = news['Label'].value_counts()\n",
    "print(\"\\nDistribución de etiquetas (0 = Falso, 1 = Verdadero):\")\n",
    "print(label_counts)\n",
    "\n",
    "plt.figure(figsize=(6, 4))\n",
    "sns.countplot(x='Label', data=news)\n",
    "plt.title('Distribución de Noticias Verdaderas (1) y Falsas (0)')\n",
    "plt.xlabel('Etiqueta')\n",
    "plt.ylabel('Cantidad')\n",
    "plt.show()\n",
    "\n",
    "# 2. Longitud de títulos y descripciones\n",
    "news['title_length'] = news['Titulo'].apply(lambda x: len(str(x).split()))\n",
    "news['desc_length'] = news['Descripcion'].apply(lambda x: len(str(x).split()))\n",
    "\n",
    "# Estadísticas de longitud\n",
    "print(\"\\nEstadísticas de longitud de títulos:\")\n",
    "print(news.groupby('Label')['title_length'].describe())\n",
    "print(\"\\nEstadísticas de longitud de descripciones:\")\n",
    "print(news.groupby('Label')['desc_length'].describe())\n",
    "\n"
   ]
  },
  {
   "cell_type": "code",
   "execution_count": 8,
   "id": "204f06bf-7ac5-49e6-bd9b-d2d41f92704e",
   "metadata": {},
   "outputs": [
    {
     "data": {
      "image/png": "[encoded data removed]",
      "text/plain": [
       "<Figure size 800x500 with 1 Axes>"
      ]
     },
     "metadata": {},
     "output_type": "display_data"
    },
    {
     "data": {
      "image/png": "[encoded data removed]",
      "text/plain": [
       "<Figure size 800x500 with 1 Axes>"
      ]
     },
     "metadata": {},
     "output_type": "display_data"
    },
    {
     "data": {
      "text/plain": [
       "<Figure size 1000x600 with 0 Axes>"
      ]
     },
     "metadata": {},
     "output_type": "display_data"
    },
    {
     "data": {
      "image/png": "[encoded data removed]",
      "text/plain": [
       "<Figure size 640x480 with 1 Axes>"
      ]
     },
     "metadata": {},
     "output_type": "display_data"
    },
    {
     "name": "stdout",
     "output_type": "stream",
     "text": [
      "\n",
      "Palabras más frecuentes en títulos de noticias falsas:\n",
      "[('de', 25935), ('la', 18947), ('el', 16929), ('a', 11588), ('en', 10181), ('y', 9007), ('que', 7221), ('del', 6857), ('los', 5524), ('para', 4387)]\n",
      "\n",
      "Palabras más frecuentes en títulos de noticias verdaderas:\n",
      "[('de', 36912), ('la', 27394), ('el', 23488), ('a', 16043), ('en', 14205), ('y', 11988), ('que', 9865), ('del', 9305), ('los', 8769), ('las', 6476)]\n"
     ]
    }
   ],
   "source": [
    "# Boxplot de longitud de títulos\n",
    "plt.figure(figsize=(8, 5))\n",
    "sns.boxplot(x='Label', y='title_length', data=news)\n",
    "plt.title('Longitud de Títulos por Etiqueta')\n",
    "plt.xlabel('Etiqueta (0 = Falso, 1 = Verdadero)')\n",
    "plt.ylabel('Número de palabras')\n",
    "plt.show()\n",
    "\n",
    "# Boxplot de longitud de descripciones\n",
    "plt.figure(figsize=(8, 5))\n",
    "sns.boxplot(x='Label', y='desc_length', data=news)\n",
    "plt.title('Longitud de Descripciones por Etiqueta')\n",
    "plt.xlabel('Etiqueta (0 = Falso, 1 = Verdadero)')\n",
    "plt.ylabel('Número de palabras')\n",
    "plt.show()\n",
    "\n",
    "# 3. Distribución temporal (por año)\n",
    "news['Fecha'] = pd.to_datetime(news['Fecha'], format='%d/%m/%Y')\n",
    "news['Year'] = news['Fecha'].dt.year\n",
    "year_counts = news.groupby(['Year', 'Label']).size().unstack(fill_value=0)\n",
    "\n",
    "plt.figure(figsize=(10, 6))\n",
    "year_counts.plot(kind='bar', stacked=True)\n",
    "plt.title('Distribución de Noticias por Año y Etiqueta')\n",
    "plt.xlabel('Año')\n",
    "plt.ylabel('Cantidad de Noticias')\n",
    "plt.legend(['Falsas (0)', 'Verdaderas (1)'])\n",
    "plt.show()\n",
    "\n",
    "# 4. Palabras más frecuentes en títulos (separado por etiqueta)\n",
    "def get_top_words(text_series, n=10):\n",
    "    # Convertir a str para manejar NaN o valores no-string\n",
    "    words = ' '.join(text_series.astype(str)).lower().split()\n",
    "    return Counter(words).most_common(n)\n",
    "\n",
    "print(\"\\nPalabras más frecuentes en títulos de noticias falsas:\")\n",
    "print(get_top_words(news[news['Label'] == 0]['Titulo']))\n",
    "print(\"\\nPalabras más frecuentes en títulos de noticias verdaderas:\")\n",
    "print(get_top_words(news[news['Label'] == 1]['Titulo']))\n",
    "\n",
    "# Opcional: Palabras más frecuentes en descripciones (puede ser pesado, descomenta si lo necesitas)\n",
    "# print(\"\\nPalabras más frecuentes en descripciones de noticias falsas:\")\n",
    "# print(get_top_words(df[df['Label'] == 0]['Descripcion']))\n",
    "# print(\"\\nPalabras más frecuentes en descripciones de noticias verdaderas:\")\n",
    "# print(get_top_words(df[df['Label'] == 1]['Descripcion']))"
   ]
  },
  {
   "cell_type": "code",
   "execution_count": 9,
   "id": "d9d9ac27-3d9b-44df-9c3f-931c30ef3ebd",
   "metadata": {},
   "outputs": [
    {
     "name": "stdout",
     "output_type": "stream",
     "text": [
      "<class 'pandas.core.frame.DataFrame'>\n",
      "RangeIndex: 57063 entries, 0 to 57062\n",
      "Data columns (total 8 columns):\n",
      " #   Column        Non-Null Count  Dtype         \n",
      "---  ------        --------------  -----         \n",
      " 0   ID            57063 non-null  object        \n",
      " 1   Label         57063 non-null  int64         \n",
      " 2   Titulo        57047 non-null  object        \n",
      " 3   Descripcion   57063 non-null  object        \n",
      " 4   Fecha         57063 non-null  datetime64[ns]\n",
      " 5   title_length  57063 non-null  int64         \n",
      " 6   desc_length   57063 non-null  int64         \n",
      " 7   Year          57063 non-null  int32         \n",
      "dtypes: datetime64[ns](1), int32(1), int64(3), object(3)\n",
      "memory usage: 3.3+ MB\n"
     ]
    }
   ],
   "source": [
    "news.info()"
   ]
  },
  {
   "cell_type": "markdown",
   "id": "30088873-5549-4986-a306-7395768125ca",
   "metadata": {},
   "source": [
    "Perfilamiento: Una vez analizado el entendimiento, se empiezan a perfilar los datos para la limpieza."
   ]
  },
  {
   "cell_type": "code",
   "execution_count": 10,
   "id": "259a8c82-f829-4f2f-ae2a-1d7f66e5a57b",
   "metadata": {},
   "outputs": [
    {
     "name": "stdout",
     "output_type": "stream",
     "text": [
      "=== Completitud ===\n",
      "Valores nulos por columna:\n",
      "ID               0\n",
      "Label            0\n",
      "Titulo          16\n",
      "Descripcion      0\n",
      "Fecha            0\n",
      "title_length     0\n",
      "desc_length      0\n",
      "Year             0\n",
      "dtype: int64\n",
      "\n",
      "Valores vacíos (strings vacíos) por columna:\n",
      "ID              0\n",
      "Label           0\n",
      "Titulo          0\n",
      "Descripcion     0\n",
      "Fecha           0\n",
      "title_length    0\n",
      "desc_length     0\n",
      "Year            0\n",
      "dtype: int64\n",
      "\n",
      "=== Duplicidad ===\n",
      "Número de filas completamente duplicadas:\n",
      "445\n",
      "\n",
      "Duplicados en 'Titulo':\n",
      "5458\n",
      "Duplicados en 'Descripcion':\n",
      "7425\n",
      "Duplicados en 'Titulo' y 'Descripcion' combinados:\n",
      "450\n"
     ]
    }
   ],
   "source": [
    "# 1. Completitud: Revisar valores nulos o vacíos\n",
    "print(\"=== Completitud ===\")\n",
    "print(\"Valores nulos por columna:\")\n",
    "print(news.isnull().sum())\n",
    "print(\"\\nValores vacíos (strings vacíos) por columna:\")\n",
    "print((news == '').sum())\n",
    "\n",
    "# 2. Duplicidad: Buscar filas duplicadas\n",
    "print(\"\\n=== Duplicidad ===\")\n",
    "print(\"Número de filas completamente duplicadas:\")\n",
    "print(news.duplicated().sum())\n",
    "\n",
    "# Duplicados en columnas específicas\n",
    "print(\"\\nDuplicados en 'Titulo':\")\n",
    "print(news.duplicated(subset=['Titulo']).sum())\n",
    "print(\"Duplicados en 'Descripcion':\")\n",
    "print(news.duplicated(subset=['Descripcion']).sum())\n",
    "print(\"Duplicados en 'Titulo' y 'Descripcion' combinados:\")\n",
    "print(news.duplicated(subset=['Titulo', 'Descripcion']).sum())"
   ]
  },
  {
   "cell_type": "code",
   "execution_count": 11,
   "id": "96eb91d1-a681-4edb-b03d-9f9cc9e160e7",
   "metadata": {},
   "outputs": [
    {
     "name": "stdout",
     "output_type": "stream",
     "text": [
      "\n",
      "=== Coherencia ===\n",
      "Valores únicos en 'Label':\n",
      "[1 0]\n",
      "Todas las etiquetas son 0 o 1 (correcto).\n"
     ]
    }
   ],
   "source": [
    "# 3. Coherencia\n",
    "print(\"\\n=== Coherencia ===\")\n",
    "# a) Revisar valores en 'Label'\n",
    "print(\"Valores únicos en 'Label':\")\n",
    "print(news['Label'].unique())\n",
    "invalid_labels = news[~news['Label'].isin([0, 1])]\n",
    "if not invalid_labels.empty:\n",
    "    print(\"\\nFilas con etiquetas inválidas (no 0 ni 1):\")\n",
    "    print(invalid_labels)\n",
    "else:\n",
    "    print(\"Todas las etiquetas son 0 o 1 (correcto).\")"
   ]
  },
  {
   "cell_type": "markdown",
   "id": "49a5e28d-d77f-4db0-a808-591ce7ee803e",
   "metadata": {},
   "source": [
    "Ahora se elimina una de las filas duplicadas y las que tienen valores nulos"
   ]
  },
  {
   "cell_type": "code",
   "execution_count": 12,
   "id": "e9fd4d13-9ba2-4b44-93a2-e93f87519dba",
   "metadata": {},
   "outputs": [],
   "source": [
    "news = news.drop_duplicates(keep='first')\n",
    "\n",
    "# Eliminar filas con valores nulos en cualquier columna\n",
    "news = news.dropna()"
   ]
  },
  {
   "cell_type": "code",
   "execution_count": 13,
   "id": "684d92f1-e807-465e-b280-76353576e947",
   "metadata": {},
   "outputs": [
    {
     "name": "stdout",
     "output_type": "stream",
     "text": [
      "Número de filas actuales en el dataset 'news': 56602\n"
     ]
    }
   ],
   "source": [
    "# Imprimir el número de filas actuales en 'news'\n",
    "print(\"Número de filas actuales en el dataset 'news':\", len(news))"
   ]
  },
  {
   "cell_type": "code",
   "execution_count": 14,
   "id": "b5748273-cf5f-4e03-b915-f53543cf0d69",
   "metadata": {},
   "outputs": [
    {
     "name": "stdout",
     "output_type": "stream",
     "text": [
      "Primeras 5 filas del dataset limpio:\n",
      "   Label                                       Titulo_clean  \\\n",
      "0      1  the guardian va con sanchez europa necesita qu...   \n",
      "1      0  revelan que el gobierno negocio la liberacian ...   \n",
      "2      1  el ahora o nunca de joan fuster sobre el estat...   \n",
      "3      1  iglesias alienta a yolanda daaz erc y eh bildu...   \n",
      "4      0  puigdemont no seraa ninguna tragedia una repet...   \n",
      "\n",
      "                                   Descripcion_clean      Fecha  \n",
      "0  el diario britanico publica3 este pasado jueve... 2023-06-02  \n",
      "1  revelan que el gobierno negocio la liberacian ... 2023-10-01  \n",
      "2  el valencianismo convoca en castella3 su fiest... 2022-04-25  \n",
      "3  en polatica igual que hay que negociar con los... 2022-01-03  \n",
      "4  en una entrevista en el punt avui el lader de ... 2018-03-09  \n",
      "\n",
      "Número de filas actuales en el dataset 'news' después de limpieza: 56602\n"
     ]
    }
   ],
   "source": [
    "import pandas as pd\n",
    "import unicodedata\n",
    "import re\n",
    "\n",
    "# Funciones de limpieza adaptadas\n",
    "def remove_non_ascii(text):\n",
    "    \"\"\"Remove non-ASCII characters from a string\"\"\"\n",
    "    if pd.isna(text):  # Manejar valores nulos\n",
    "        return \"\"\n",
    "    return unicodedata.normalize('NFKD', text).encode('ascii', 'ignore').decode('utf-8', 'ignore')\n",
    "\n",
    "def to_lowercase(text):\n",
    "    \"\"\"Convert all characters to lowercase\"\"\"\n",
    "    if pd.isna(text):\n",
    "        return \"\"\n",
    "    return text.lower()\n",
    "\n",
    "def remove_punctuation(text):\n",
    "    \"\"\"Remove punctuation from a string\"\"\"\n",
    "    if pd.isna(text):\n",
    "        return \"\"\n",
    "    return re.sub(r'[^\\w\\s]', '', text)\n",
    "\n",
    "def replace_numbers(text):\n",
    "    \"\"\"Replace *NUMBER* placeholders with 'numero'\"\"\"\n",
    "    if pd.isna(text):\n",
    "        return \"\"\n",
    "    return re.sub(r'\\*NUMBER\\*', 'numero', text)\n",
    "\n",
    "def preprocessing(text):\n",
    "    \"\"\"Apply all preprocessing steps to a string\"\"\"\n",
    "    text = replace_numbers(text)  # Primero reemplazar *NUMBER*\n",
    "    text = remove_non_ascii(text)\n",
    "    text = to_lowercase(text)\n",
    "    text = remove_punctuation(text)\n",
    "    return text.strip()  # Eliminar espacios sobrantes\n",
    "\n",
    "# Aplicar limpieza a las columnas 'Titulo' y 'Descripcion'\n",
    "news['Titulo_clean'] = news['Titulo'].apply(preprocessing)\n",
    "news['Descripcion_clean'] = news['Descripcion'].apply(preprocessing)\n",
    "\n",
    "# Eliminar la columna 'ID' ya que es redundante (siempre es 'ID')\n",
    "news = news.drop(columns=['ID'])\n",
    "\n",
    "# Mostrar las primeras filas para verificar el resultado\n",
    "print(\"Primeras 5 filas del dataset limpio:\")\n",
    "print(news[['Label', 'Titulo_clean', 'Descripcion_clean', 'Fecha']].head())\n",
    "\n",
    "# Imprimir el número de filas después de la limpieza\n",
    "print(\"\\nNúmero de filas actuales en el dataset 'news' después de limpieza:\", len(news))"
   ]
  },
  {
   "cell_type": "code",
   "execution_count": 15,
   "id": "07461e5a-6899-4b59-990b-b651297e37fa",
   "metadata": {},
   "outputs": [
    {
     "name": "stderr",
     "output_type": "stream",
     "text": [
      "[nltk_data] Downloading package stopwords to\n",
      "[nltk_data]     C:\\Users\\wired\\AppData\\Roaming\\nltk_data...\n",
      "[nltk_data]   Package stopwords is already up-to-date!\n"
     ]
    },
    {
     "name": "stdout",
     "output_type": "stream",
     "text": [
      "Primeras 5 filas del dataset con stopwords eliminadas:\n",
      "   Label                               Titulo_clean_no_stop  \\\n",
      "0      1  the guardian va sanchez europa necesita apuest...   \n",
      "1      0  revelan gobierno negocio liberacian mireles ca...   \n",
      "2      1  ahora nunca joan fuster estatuto valenciano cu...   \n",
      "3      1  iglesias alienta yolanda daaz erc eh bildu neg...   \n",
      "4      0  puigdemont seraa ninguna tragedia repeticia3n ...   \n",
      "\n",
      "                           Descripcion_clean_no_stop      Fecha  \n",
      "0  diario britanico publica3 pasado jueves editor... 2023-06-02  \n",
      "1  revelan gobierno negocio liberacian mireles ca... 2023-10-01  \n",
      "2  valencianismo convoca castella3 fiesta grande ... 2022-04-25  \n",
      "3  polatica igual negociar empresarios negociar g... 2022-01-03  \n",
      "4  entrevista punt avui lader jxcat desdramatizad... 2018-03-09  \n"
     ]
    }
   ],
   "source": [
    "import nltk\n",
    "from nltk.corpus import stopwords\n",
    "\n",
    "# Descargar las stopwords en español (solo la primera vez)\n",
    "nltk.download('stopwords')\n",
    "\n",
    "# Obtener las stopwords en español\n",
    "stop_words = set(stopwords.words('spanish'))\n",
    "\n",
    "def remove_stopwords(text):\n",
    "    \"\"\"Remove stopwords from a string\"\"\"\n",
    "    if pd.isna(text):  # Manejar valores nulos\n",
    "        return \"\"\n",
    "    # Dividir el texto en palabras, filtrar stopwords y volver a unir\n",
    "    words = text.split()\n",
    "    filtered_words = [word for word in words if word not in stop_words]\n",
    "    return ' '.join(filtered_words)\n",
    "\n",
    "# Aplicar la eliminación de stopwords a las columnas limpias\n",
    "news['Titulo_clean_no_stop'] = news['Titulo_clean'].apply(remove_stopwords)\n",
    "news['Descripcion_clean_no_stop'] = news['Descripcion_clean'].apply(remove_stopwords)\n",
    "\n",
    "# Mostrar las primeras filas para verificar el resultado\n",
    "print(\"Primeras 5 filas del dataset con stopwords eliminadas:\")\n",
    "print(news[['Label', 'Titulo_clean_no_stop', 'Descripcion_clean_no_stop', 'Fecha']].head())"
   ]
  },
  {
   "cell_type": "code",
   "execution_count": null,
   "id": "e8f7364c-2b9e-41c7-8802-2154d81eca3c",
   "metadata": {},
   "outputs": [
    {
     "name": "stderr",
     "output_type": "stream",
     "text": [
      "[nltk_data] Downloading package punkt_tab to\n",
      "[nltk_data]     C:\\Users\\wired\\AppData\\Roaming\\nltk_data...\n",
      "[nltk_data]   Package punkt_tab is already up-to-date!\n",
      "[nltk_data] Downloading package punkt to\n",
      "[nltk_data]     C:\\Users\\wired\\AppData\\Roaming\\nltk_data...\n",
      "[nltk_data]   Package punkt is already up-to-date!\n"
     ]
    },
    {
     "name": "stdout",
     "output_type": "stream",
     "text": [
      "Primeras 5 filas del dataset con tokenización:\n",
      "   Label                                      titulo_tokens  \\\n",
      "0      1  [the, guardian, va, sanchez, europa, necesita,...   \n",
      "1      0  [revelan, gobierno, negocio, liberacian, mirel...   \n",
      "2      1  [ahora, nunca, joan, fuster, estatuto, valenci...   \n",
      "3      1  [iglesias, alienta, yolanda, daaz, erc, eh, bi...   \n",
      "4      0  [puigdemont, seraa, ninguna, tragedia, repetic...   \n",
      "\n",
      "                                  descripcion_tokens      Fecha  \n",
      "0  [diario, britanico, publica3, pasado, jueves, ... 2023-06-02  \n",
      "1  [revelan, gobierno, negocio, liberacian, mirel... 2023-10-01  \n",
      "2  [valencianismo, convoca, castella3, fiesta, gr... 2022-04-25  \n",
      "3  [polatica, igual, negociar, empresarios, negoc... 2022-01-03  \n",
      "4  [entrevista, punt, avui, lader, jxcat, desdram... 2018-03-09  \n",
      "\n",
      "Dimensiones del dataset después de tokenización: (56602, 13)\n",
      "\n",
      "Información de la columna 'titulo_tokens':\n",
      "<class 'pandas.core.series.Series'>\n",
      "Index: 56602 entries, 0 to 57062\n",
      "Series name: titulo_tokens\n",
      "Non-Null Count  Dtype \n",
      "--------------  ----- \n",
      "56602 non-null  object\n",
      "dtypes: object(1)\n",
      "memory usage: 884.4+ KB\n",
      "None\n",
      "\n",
      "Información de la columna 'descripcion_tokens':\n",
      "<class 'pandas.core.series.Series'>\n",
      "Index: 56602 entries, 0 to 57062\n",
      "Series name: descripcion_tokens\n",
      "Non-Null Count  Dtype \n",
      "--------------  ----- \n",
      "56602 non-null  object\n",
      "dtypes: object(1)\n",
      "memory usage: 884.4+ KB\n",
      "None\n"
     ]
    }
   ],
   "source": [
    "import nltk\n",
    "from nltk.tokenize import word_tokenize\n",
    "nltk.download('punkt_tab')\n",
    "\n",
    "# Descargar el tokenizador punkt (solo la primera vez)\n",
    "nltk.download('punkt')\n",
    "\n",
    "# Tokenizar las columnas limpias sin stopwords\n",
    "news['titulo_tokens'] = news['Titulo_clean_no_stop'].apply(word_tokenize)\n",
    "news['descripcion_tokens'] = news['Descripcion_clean_no_stop'].apply(word_tokenize)\n",
    "\n",
    "# Mostrar las primeras filas para verificar el resultado\n",
    "print(\"Primeras 5 filas del dataset con tokenización:\")\n",
    "print(news[['Label', 'titulo_tokens', 'descripcion_tokens', 'Fecha']].head())\n",
    "\n",
    "# Información básica del dataset después de tokenizar\n",
    "print(\"\\nDimensiones del dataset después de tokenización:\", news.shape)\n",
    "print(\"\\nInformación de la columna 'titulo_tokens':\")\n",
    "print(news['titulo_tokens'].info())\n",
    "print(\"\\nInformación de la columna 'descripcion_tokens':\")\n",
    "print(news['descripcion_tokens'].info())"
   ]
  },
  {
   "cell_type": "markdown",
   "id": "3a4e0350-7d23-489c-9ba4-5d55fbea3f82",
   "metadata": {},
   "source": [
    "## Lematizar"
   ]
  },
  {
   "cell_type": "code",
   "execution_count": 17,
   "id": "2dd5102e-bb5b-4d84-917c-5951711fab95",
   "metadata": {},
   "outputs": [
    {
     "name": "stdout",
     "output_type": "stream",
     "text": [
      "Requirement already satisfied: spacy in c:\\users\\wired\\anaconda3\\lib\\site-packages (3.8.4)\n",
      "Requirement already satisfied: spacy-legacy<3.1.0,>=3.0.11 in c:\\users\\wired\\anaconda3\\lib\\site-packages (from spacy) (3.0.12)\n",
      "Requirement already satisfied: spacy-loggers<2.0.0,>=1.0.0 in c:\\users\\wired\\anaconda3\\lib\\site-packages (from spacy) (1.0.5)\n",
      "Requirement already satisfied: murmurhash<1.1.0,>=0.28.0 in c:\\users\\wired\\anaconda3\\lib\\site-packages (from spacy) (1.0.12)\n",
      "Requirement already satisfied: cymem<2.1.0,>=2.0.2 in c:\\users\\wired\\anaconda3\\lib\\site-packages (from spacy) (2.0.11)\n",
      "Requirement already satisfied: preshed<3.1.0,>=3.0.2 in c:\\users\\wired\\anaconda3\\lib\\site-packages (from spacy) (3.0.9)\n",
      "Requirement already satisfied: thinc<8.4.0,>=8.3.4 in c:\\users\\wired\\anaconda3\\lib\\site-packages (from spacy) (8.3.4)\n",
      "Requirement already satisfied: wasabi<1.2.0,>=0.9.1 in c:\\users\\wired\\anaconda3\\lib\\site-packages (from spacy) (1.1.3)\n",
      "Requirement already satisfied: srsly<3.0.0,>=2.4.3 in c:\\users\\wired\\anaconda3\\lib\\site-packages (from spacy) (2.5.1)\n",
      "Requirement already satisfied: catalogue<2.1.0,>=2.0.6 in c:\\users\\wired\\anaconda3\\lib\\site-packages (from spacy) (2.0.10)\n",
      "Requirement already satisfied: weasel<0.5.0,>=0.1.0 in c:\\users\\wired\\anaconda3\\lib\\site-packages (from spacy) (0.4.1)\n",
      "Requirement already satisfied: typer<1.0.0,>=0.3.0 in c:\\users\\wired\\anaconda3\\lib\\site-packages (from spacy) (0.9.0)\n",
      "Requirement already satisfied: tqdm<5.0.0,>=4.38.0 in c:\\users\\wired\\anaconda3\\lib\\site-packages (from spacy) (4.66.5)\n",
      "Requirement already satisfied: numpy>=1.19.0 in c:\\users\\wired\\anaconda3\\lib\\site-packages (from spacy) (1.26.4)\n",
      "Requirement already satisfied: requests<3.0.0,>=2.13.0 in c:\\users\\wired\\anaconda3\\lib\\site-packages (from spacy) (2.32.3)\n",
      "Requirement already satisfied: pydantic!=1.8,!=1.8.1,<3.0.0,>=1.7.4 in c:\\users\\wired\\anaconda3\\lib\\site-packages (from spacy) (2.8.2)\n",
      "Requirement already satisfied: jinja2 in c:\\users\\wired\\anaconda3\\lib\\site-packages (from spacy) (3.1.4)\n",
      "Requirement already satisfied: setuptools in c:\\users\\wired\\anaconda3\\lib\\site-packages (from spacy) (75.1.0)\n",
      "Requirement already satisfied: packaging>=20.0 in c:\\users\\wired\\anaconda3\\lib\\site-packages (from spacy) (24.1)\n",
      "Requirement already satisfied: langcodes<4.0.0,>=3.2.0 in c:\\users\\wired\\anaconda3\\lib\\site-packages (from spacy) (3.5.0)\n",
      "Requirement already satisfied: language-data>=1.2 in c:\\users\\wired\\anaconda3\\lib\\site-packages (from langcodes<4.0.0,>=3.2.0->spacy) (1.3.0)\n",
      "Requirement already satisfied: annotated-types>=0.4.0 in c:\\users\\wired\\anaconda3\\lib\\site-packages (from pydantic!=1.8,!=1.8.1,<3.0.0,>=1.7.4->spacy) (0.6.0)\n",
      "Requirement already satisfied: pydantic-core==2.20.1 in c:\\users\\wired\\anaconda3\\lib\\site-packages (from pydantic!=1.8,!=1.8.1,<3.0.0,>=1.7.4->spacy) (2.20.1)\n",
      "Requirement already satisfied: typing-extensions>=4.6.1 in c:\\users\\wired\\anaconda3\\lib\\site-packages (from pydantic!=1.8,!=1.8.1,<3.0.0,>=1.7.4->spacy) (4.11.0)\n",
      "Requirement already satisfied: charset-normalizer<4,>=2 in c:\\users\\wired\\anaconda3\\lib\\site-packages (from requests<3.0.0,>=2.13.0->spacy) (3.3.2)\n",
      "Requirement already satisfied: idna<4,>=2.5 in c:\\users\\wired\\anaconda3\\lib\\site-packages (from requests<3.0.0,>=2.13.0->spacy) (3.7)\n",
      "Requirement already satisfied: urllib3<3,>=1.21.1 in c:\\users\\wired\\anaconda3\\lib\\site-packages (from requests<3.0.0,>=2.13.0->spacy) (2.2.3)\n",
      "Requirement already satisfied: certifi>=2017.4.17 in c:\\users\\wired\\anaconda3\\lib\\site-packages (from requests<3.0.0,>=2.13.0->spacy) (2025.1.31)\n",
      "Requirement already satisfied: blis<1.3.0,>=1.2.0 in c:\\users\\wired\\anaconda3\\lib\\site-packages (from thinc<8.4.0,>=8.3.4->spacy) (1.2.0)\n",
      "Requirement already satisfied: confection<1.0.0,>=0.0.1 in c:\\users\\wired\\anaconda3\\lib\\site-packages (from thinc<8.4.0,>=8.3.4->spacy) (0.1.5)\n",
      "Requirement already satisfied: colorama in c:\\users\\wired\\anaconda3\\lib\\site-packages (from tqdm<5.0.0,>=4.38.0->spacy) (0.4.6)\n",
      "Requirement already satisfied: click<9.0.0,>=7.1.1 in c:\\users\\wired\\anaconda3\\lib\\site-packages (from typer<1.0.0,>=0.3.0->spacy) (8.1.7)\n",
      "Requirement already satisfied: cloudpathlib<1.0.0,>=0.7.0 in c:\\users\\wired\\anaconda3\\lib\\site-packages (from weasel<0.5.0,>=0.1.0->spacy) (0.20.0)\n",
      "Requirement already satisfied: smart-open<8.0.0,>=5.2.1 in c:\\users\\wired\\anaconda3\\lib\\site-packages (from weasel<0.5.0,>=0.1.0->spacy) (5.2.1)\n",
      "Requirement already satisfied: MarkupSafe>=2.0 in c:\\users\\wired\\anaconda3\\lib\\site-packages (from jinja2->spacy) (2.1.3)\n",
      "Requirement already satisfied: marisa-trie>=1.1.0 in c:\\users\\wired\\anaconda3\\lib\\site-packages (from language-data>=1.2->langcodes<4.0.0,>=3.2.0->spacy) (1.2.1)\n",
      "Note: you may need to restart the kernel to use updated packages.\n",
      "Collecting es-core-news-sm==3.8.0\n",
      "  Downloading https://github.com/explosion/spacy-models/releases/download/es_core_news_sm-3.8.0/es_core_news_sm-3.8.0-py3-none-any.whl (12.9 MB)\n",
      "     ---------------------------------------- 0.0/12.9 MB ? eta -:--:--\n",
      "     ----------- ---------------------------- 3.7/12.9 MB 21.8 MB/s eta 0:00:01\n",
      "     ------------------------------ -------- 10.0/12.9 MB 25.9 MB/s eta 0:00:01\n",
      "     --------------------------------------  12.8/12.9 MB 26.8 MB/s eta 0:00:01\n",
      "     --------------------------------------  12.8/12.9 MB 26.8 MB/s eta 0:00:01\n",
      "     --------------------------------------  12.8/12.9 MB 26.8 MB/s eta 0:00:01\n",
      "     --------------------------------------  12.8/12.9 MB 26.8 MB/s eta 0:00:01\n",
      "     ---------------------------------------- 12.9/12.9 MB 8.6 MB/s eta 0:00:00\n",
      "\u001b[38;5;2m✔ Download and installation successful\u001b[0m\n",
      "You can now load the package via spacy.load('es_core_news_sm')\n"
     ]
    }
   ],
   "source": [
    "%pip install spacy\n",
    "!python -m spacy download es_core_news_sm"
   ]
  },
  {
   "cell_type": "code",
   "execution_count": 18,
   "id": "e3554de2-23dc-4f45-8115-2d93f2ba7fba",
   "metadata": {},
   "outputs": [
    {
     "name": "stdout",
     "output_type": "stream",
     "text": [
      "   Label                                      titulo_lemmas  \\\n",
      "0      1  [the, guardiar, ir, sanchez, europa, necesitar...   \n",
      "1      0  [revelar, gobierno, negocio, liberaciar, mirel...   \n",
      "2      1  [ahora, nunca, joan, fuster, estatuto, valenci...   \n",
      "3      1  [iglesia, alentar, yolanda, daaz, erc, eh, bil...   \n",
      "4      0  [puigdemont, seraa, ninguno, tragedia, repetic...   \n",
      "\n",
      "                                  descripcion_lemmas      Fecha  \n",
      "0  [diario, britanico, publica3, pasado, jueves, ... 2023-06-02  \n",
      "1  [revelar, gobierno, negocio, liberaciar, mirel... 2023-10-01  \n",
      "2  [valencianismo, convocar, castella3, fiesta, g... 2022-04-25  \n",
      "3  [polaticar, igual, negociar, empresario, negoc... 2022-01-03  \n",
      "4  [entrevista, punt, avui, lader, jxcat , desdra... 2018-03-09  \n"
     ]
    }
   ],
   "source": [
    "import pandas as pd\n",
    "import spacy\n",
    "\n",
    "\n",
    "# Cargar el modelo en español de spaCy\n",
    "nlp = spacy.load('es_core_news_sm')\n",
    "\n",
    "\n",
    "\n",
    "def lemmatize_tokens(token_list):\n",
    "    \"\"\"Lemmatize a list of tokens\"\"\"\n",
    "    if not token_list or pd.isna(token_list).any():  # Verificar si la lista está vacía o tiene NaN\n",
    "        return []\n",
    "    # Convertir la lista de tokens en un string para pasarlo a spaCy\n",
    "    text = ' '.join(token_list)\n",
    "    doc = nlp(text)\n",
    "    return [token.lemma_ for token in doc]\n",
    "\n",
    "# Aplicar stemming y lematización a 'Titulo' y 'Descripcion'\n",
    "news['titulo_lemmas'] = news['titulo_tokens'].apply(lemmatize_tokens)\n",
    "news['descripcion_lemmas'] = news['descripcion_tokens'].apply(lemmatize_tokens)\n",
    "\n",
    "\n",
    "# Mostrar resultados\n",
    "print(news[['Label', 'titulo_lemmas', 'descripcion_lemmas', 'Fecha']].head())"
   ]
  },
  {
   "cell_type": "markdown",
   "id": "7fc91490-6433-4985-98e9-9eb3e67f4945",
   "metadata": {},
   "source": [
    "# Vectorizacion"
   ]
  },
  {
   "cell_type": "code",
   "execution_count": null,
   "id": "0bc65511-c5f4-4e1c-822d-dbd615d921b3",
   "metadata": {},
   "outputs": [
    {
     "name": "stdout",
     "output_type": "stream",
     "text": [
      "Shape de X_titulo_dummy: (56602, 16384)\n",
      "Shape de X_descripcion_dummy: (56602, 16384)\n",
      "Ejemplo de X_titulo_dummy (primera fila):   (0, 410)\t0.3333333333333333\n",
      "  (0, 842)\t0.3333333333333333\n",
      "  (0, 4080)\t0.3333333333333333\n",
      "  (0, 4139)\t0.3333333333333333\n",
      "  (0, 5209)\t0.3333333333333333\n",
      "  (0, 8350)\t0.3333333333333333\n",
      "  (0, 8636)\t0.3333333333333333\n",
      "  (0, 14979)\t0.3333333333333333\n",
      "  (0, 15550)\t0.3333333333333333\n",
      "Shape de X_titulo_tf_idf: (56602, 10000)\n",
      "Shape de X_descripcion_tf_idf: (56602, 10000)\n",
      "Ejemplo de X_titulo_tf_idf (primera fila):   (0, 9241)\t0.37570656748331294\n",
      "  (0, 4832)\t0.4439264154366522\n",
      "  (0, 5531)\t0.24256253461760582\n",
      "  (0, 8626)\t0.18385424779285933\n",
      "  (0, 4060)\t0.2960844915150179\n",
      "  (0, 6635)\t0.3287488659765131\n",
      "  (0, 1039)\t0.35774008407774494\n",
      "  (0, 2903)\t0.2198737640577864\n",
      "  (0, 4568)\t0.4439264154366522\n"
     ]
    }
   ],
   "source": [
    "from sklearn.feature_extraction.text import HashingVectorizer, TfidfVectorizer\n",
    "\n",
    "# Unir los tokens lematizados en strings para cada fila\n",
    "news['titulo_text'] = news['titulo_lemmas'].apply(lambda x: ' '.join(map(str, x)))\n",
    "news['descripcion_text'] = news['descripcion_lemmas'].apply(lambda x: ' '.join(map(str, x)))\n",
    "\n",
    "# Separar variable predictora (Label) y textos a utilizar\n",
    "X_titulo, y_data = news['titulo_text'], news['Label']\n",
    "X_descripcion = news['descripcion_text']  # También procesaremos las descripciones\n",
    "\n",
    "# Transformación binaria 1 a 1 (presencia/ausencia de palabras) usando HashingVectorizer\n",
    "hashing = HashingVectorizer(binary=True, n_features=2**18)  # Adjust n_features as needed\n",
    "X_titulo_dummy = hashing.fit_transform(X_titulo)\n",
    "X_descripcion_dummy = hashing.fit_transform(X_descripcion)\n",
    "print(\"Shape de X_titulo_dummy:\", X_titulo_dummy.shape)\n",
    "print(\"Shape de X_descripcion_dummy:\", X_descripcion_dummy.shape)\n",
    "print(\"Ejemplo de X_titulo_dummy (primera fila):\", X_titulo_dummy.toarray()[0])\n",
    "\n",
    "# Conteo de palabras presentes usando HashingVectorizer\n",
    "hashing_count = HashingVectorizer(n_features=2**18)  # Adjust n_features as needed\n",
    "X_titulo_count = hashing_count.fit_transform(X_titulo)\n",
    "X_descripcion_count = hashing_count.fit_transform(X_descripcion)\n",
    "print(\"Shape de X_titulo_count:\", X_titulo_count.shape)\n",
    "print(\"Shape de X_descripcion_count:\", X_descripcion_count.shape)\n",
    "print(\"Ejemplo de X_titulo_count (primera fila):\", X_titulo_count.toarray()[0])\n",
    "\n",
    "# Transformación TF-IDF\n",
    "tf_idf = TfidfVectorizer()\n",
    "X_titulo_tf_idf = tf_idf.fit_transform(X_titulo)\n",
    "X_descripcion_tf_idf = tf_idf.fit_transform(X_descripcion)\n",
    "print(\"Shape de X_titulo_tf_idf:\", X_titulo_tf_idf.shape)\n",
    "print(\"Shape de X_descripcion_tf_idf:\", X_descripcion_tf_idf.shape)\n",
    "print(\"Ejemplo de X_titulo_tf_idf (primera fila):\", X_titulo_tf_idf.toarray()[0])\n"
   ]
  },
  {
   "cell_type": "markdown",
   "id": "66fb26fa-b30f-461f-bcd7-eea4af4181a4",
   "metadata": {},
   "source": [
    "# Graficar matriz"
   ]
  },
  {
   "cell_type": "code",
   "execution_count": null,
   "id": "af59b96f-8882-4362-8265-e96dcc15c127",
   "metadata": {},
   "outputs": [
    {
     "ename": "NameError",
     "evalue": "name 'X_titulo_count' is not defined",
     "output_type": "error",
     "traceback": [
      "\u001b[1;31m---------------------------------------------------------------------------\u001b[0m",
      "\u001b[1;31mNameError\u001b[0m                                 Traceback (most recent call last)",
      "Cell \u001b[1;32mIn[25], line 4\u001b[0m\n\u001b[0;32m      2\u001b[0m n_rows, n_cols \u001b[38;5;241m=\u001b[39m \u001b[38;5;241m10\u001b[39m, \u001b[38;5;241m20\u001b[39m\n\u001b[0;32m      3\u001b[0m \u001b[38;5;66;03m#dummy_df = pd.DataFrame(X_titulo_dummy[:n_rows, :n_cols].toarray(), columns=dummy.get_feature_names_out()[:n_cols])\u001b[39;00m\n\u001b[1;32m----> 4\u001b[0m count_df \u001b[38;5;241m=\u001b[39m pd\u001b[38;5;241m.\u001b[39mDataFrame(X_titulo_count[:n_rows, :n_cols]\u001b[38;5;241m.\u001b[39mtoarray(), columns\u001b[38;5;241m=\u001b[39mcount\u001b[38;5;241m.\u001b[39mget_feature_names_out()[:n_cols])\n\u001b[0;32m      5\u001b[0m tfidf_df \u001b[38;5;241m=\u001b[39m pd\u001b[38;5;241m.\u001b[39mDataFrame(X_titulo_tf_idf[:n_rows, :n_cols]\u001b[38;5;241m.\u001b[39mtoarray(), columns\u001b[38;5;241m=\u001b[39mtf_idf\u001b[38;5;241m.\u001b[39mget_feature_names_out()[:n_cols])\n\u001b[0;32m      7\u001b[0m \u001b[38;5;66;03m# Graficar matrices como heatmaps\u001b[39;00m\n",
      "\u001b[1;31mNameError\u001b[0m: name 'X_titulo_count' is not defined"
     ]
    }
   ],
   "source": [
    "# Convertir subsecciones a DataFrame para graficar (primeras 10 filas y 20 columnas)\n",
    "n_rows, n_cols = 10, 20\n",
    "dummy_df = pd.DataFrame(X_titulo_dummy[:n_rows, :n_cols].toarray(), columns=dummy.get_feature_names_out()[:n_cols])\n",
    "count_df = pd.DataFrame(X_titulo_count[:n_rows, :n_cols].toarray(), columns=count.get_feature_names_out()[:n_cols])\n",
    "tfidf_df = pd.DataFrame(X_titulo_tf_idf[:n_rows, :n_cols].toarray(), columns=tf_idf.get_feature_names_out()[:n_cols])\n",
    "\n",
    "# Graficar matrices como heatmaps\n",
    "plt.figure(figsize=(15, 10))\n",
    "\n",
    "# Matriz binaria (dummy)\n",
    "plt.subplot(3, 1, 1)\n",
    "sns.heatmap(dummy_df, cmap=\"Blues\", annot=True, fmt=\"d\", cbar=True)\n",
    "plt.title(\"Matriz Binaria (CountVectorizer binary=True) - Primeras 10 filas y 20 palabras\")\n",
    "plt.xlabel(\"Palabras\")\n",
    "plt.ylabel(\"Noticias\")\n",
    "\n",
    "# Matriz de conteo\n",
    "plt.subplot(3, 1, 2)\n",
    "sns.heatmap(count_df, cmap=\"YlGnBu\", annot=True, fmt=\"d\", cbar=True)\n",
    "plt.title(\"Matriz de Conteo (CountVectorizer) - Primeras 10 filas y 20 palabras\")\n",
    "plt.xlabel(\"Palabras\")\n",
    "plt.ylabel(\"Noticias\")\n",
    "\n",
    "# Matriz TF-IDF\n",
    "plt.subplot(3, 1, 3)\n",
    "sns.heatmap(tfidf_df, cmap=\"OrRd\", annot=True, fmt=\".2f\", cbar=True)\n",
    "plt.title(\"Matriz TF-IDF (TfidfVectorizer) - Primeras 10 filas y 20 palabras\")\n",
    "plt.xlabel(\"Palabras\")\n",
    "plt.ylabel(\"Noticias\")\n",
    "\n",
    "plt.tight_layout()\n",
    "plt.show()"
   ]
  },
  {
   "cell_type": "markdown",
   "id": "d8ac00fd-a137-409e-b602-54124a508433",
   "metadata": {},
   "source": [
    "# MODELOS"
   ]
  },
  {
   "cell_type": "markdown",
   "id": "af71ea21",
   "metadata": {},
   "source": [
    "## Modelo 1: Regresión Logistica\n"
   ]
  },
  {
   "cell_type": "markdown",
   "id": "20bf7c8f",
   "metadata": {},
   "source": [
    "### Realizado por Juan Puig"
   ]
  },
  {
   "cell_type": "code",
   "execution_count": 26,
   "id": "0e110d19-7066-4fe0-949d-f3d99fecbf00",
   "metadata": {},
   "outputs": [],
   "source": [
    "from sklearn.model_selection import train_test_split\n",
    "from sklearn.linear_model import LogisticRegression\n",
    "from sklearn.metrics import accuracy_score, classification_report"
   ]
  },
  {
   "cell_type": "code",
   "execution_count": 27,
   "id": "f9959e7d-926c-4e28-b309-ad3d00f4f6c6",
   "metadata": {},
   "outputs": [
    {
     "name": "stdout",
     "output_type": "stream",
     "text": [
      "Precisión del modelo: 0.8887580236735174\n",
      "\n",
      "Reporte de clasificación:\n",
      "                precision    recall  f1-score   support\n",
      "\n",
      "    Falsa (0)       0.94      0.78      0.86      7185\n",
      "Verdadera (1)       0.86      0.97      0.91      9796\n",
      "\n",
      "     accuracy                           0.89     16981\n",
      "    macro avg       0.90      0.87      0.88     16981\n",
      " weighted avg       0.90      0.89      0.89     16981\n",
      "\n"
     ]
    }
   ],
   "source": [
    "# Combinar títulos y descripciones lematizados en un solo texto\n",
    "news['combined_text'] = news.apply(lambda row: ' '.join(row['titulo_lemmas'] + row['descripcion_lemmas']), axis=1)\n",
    "\n",
    "# Separar features (X) y target (y)\n",
    "X_data = news['combined_text']\n",
    "y_data = news['Label']\n",
    "\n",
    "# Dividir en 70% entrenamiento y 30% prueba\n",
    "X_train, X_test, y_train, y_test = train_test_split(X_data, y_data, test_size=0.3, random_state=42)\n",
    "\n",
    "# Transformar texto con TF-IDF\n",
    "tfidf = TfidfVectorizer()\n",
    "X_train_tfidf = tfidf.fit_transform(X_train)\n",
    "X_test_tfidf = tfidf.transform(X_test)\n",
    "\n",
    "# Entrenar modelo de regresión logística\n",
    "model = LogisticRegression(random_state=42)\n",
    "model.fit(X_train_tfidf, y_train)\n",
    "\n",
    "# Predecir en el conjunto de prueba\n",
    "y_pred = model.predict(X_test_tfidf)\n",
    "\n",
    "# Evaluar el modelo\n",
    "accuracy = accuracy_score(y_test, y_pred)\n",
    "report = classification_report(y_test, y_pred, target_names=['Falsa (0)', 'Verdadera (1)'])\n",
    "\n",
    "# Mostrar resultados\n",
    "print(\"Precisión del modelo:\", accuracy)\n",
    "print(\"\\nReporte de clasificación:\\n\", report)"
   ]
  },
  {
   "cell_type": "code",
   "execution_count": 28,
   "id": "6fa8eeb7-7998-42e4-83d7-3f93e3eb0529",
   "metadata": {},
   "outputs": [
    {
     "data": {
      "image/png": "[encoded data removed]",
      "text/plain": [
       "<Figure size 800x600 with 2 Axes>"
      ]
     },
     "metadata": {},
     "output_type": "display_data"
    }
   ],
   "source": [
    "cm = confusion_matrix(y_test, y_pred)\n",
    "plt.figure(figsize=(8, 6))\n",
    "sns.heatmap(cm, annot=True, fmt='d', cmap='Blues', xticklabels=['Falsa (0)', 'Verdadera (1)'], yticklabels=['Falsa (0)', 'Verdadera (1)'])\n",
    "plt.title('Matriz de Confusión')\n",
    "plt.xlabel('Predicción')\n",
    "plt.ylabel('Valor Real')\n",
    "plt.show()"
   ]
  },
  {
   "cell_type": "markdown",
   "id": "e1fe9871",
   "metadata": {},
   "source": [
    "### Test"
   ]
  },
  {
   "cell_type": "code",
   "execution_count": null,
   "id": "abb51187-7dc1-43d6-bb2e-dcb7fbd67b14",
   "metadata": {},
   "outputs": [
    {
     "ename": "NameError",
     "evalue": "name 'tfidf' is not defined",
     "output_type": "error",
     "traceback": [
      "\u001b[1;31m---------------------------------------------------------------------------\u001b[0m",
      "\u001b[1;31mNameError\u001b[0m                                 Traceback (most recent call last)",
      "Cell \u001b[1;32mIn[26], line 12\u001b[0m\n\u001b[0;32m     10\u001b[0m \u001b[38;5;66;03m# Transformar el texto con el TF-IDF ya ajustado (definido en el entrenamiento)\u001b[39;00m\n\u001b[0;32m     11\u001b[0m X_test_new \u001b[38;5;241m=\u001b[39m news_test[\u001b[38;5;124m'\u001b[39m\u001b[38;5;124mcombined_text\u001b[39m\u001b[38;5;124m'\u001b[39m]\n\u001b[1;32m---> 12\u001b[0m X_test_new_tfidf \u001b[38;5;241m=\u001b[39m tfidf\u001b[38;5;241m.\u001b[39mtransform(X_test_new)\n\u001b[0;32m     14\u001b[0m \u001b[38;5;66;03m# Predecir con el modelo ya entrenado\u001b[39;00m\n\u001b[0;32m     15\u001b[0m y_pred_new \u001b[38;5;241m=\u001b[39m model\u001b[38;5;241m.\u001b[39mpredict(X_test_new_tfidf)\n",
      "\u001b[1;31mNameError\u001b[0m: name 'tfidf' is not defined"
     ]
    }
   ],
   "source": [
    "import pandas as pd\n",
    "\n",
    "# Cargar el archivo de prueba desde el path\n",
    "file_path_test = \"fake_news_test.csv\"\n",
    "df_test = pd.read_csv(file_path, sep=\";\", encoding=\"ISO-8859-1\")\n",
    "news_test = df_test.copy()\n",
    "\n",
    "news_test['combined_text'] = (news_test['Titulo'].fillna('') + ' ' + news_test['Descripcion'].fillna('')).str.strip()\n",
    "\n",
    "# Transformar el texto con el TF-IDF ya ajustado (definido en el entrenamiento)\n",
    "X_test_new = news_test['combined_text']\n",
    "X_test_new_tfidf = tfidf.transform(X_test_new)\n",
    "\n",
    "# Predecir con el modelo ya entrenado\n",
    "y_pred_new = model.predict(X_test_new_tfidf)\n",
    "\n",
    "# Agregar las predicciones al DataFrame\n",
    "news_test['Predicted_Label'] = y_pred_new\n",
    "\n",
    "# Mostrar las predicciones\n",
    "print(\"Predicciones para fake_news_test.csv:\")\n",
    "print(news_test[['Titulo', 'Descripcion', 'Fecha', 'Predicted_Label']])\n",
    "\n"
   ]
  },
  {
   "cell_type": "code",
   "execution_count": null,
   "id": "4b69d217-551d-4009-aedd-b8150af7ca95",
   "metadata": {},
   "outputs": [
    {
     "ename": "KeyError",
     "evalue": "'Predicted_Label'",
     "output_type": "error",
     "traceback": [
      "\u001b[1;31m---------------------------------------------------------------------------\u001b[0m",
      "\u001b[1;31mKeyError\u001b[0m                                  Traceback (most recent call last)",
      "File \u001b[1;32mc:\\Users\\wired\\anaconda3\\Lib\\site-packages\\pandas\\core\\indexes\\base.py:3805\u001b[0m, in \u001b[0;36mIndex.get_loc\u001b[1;34m(self, key)\u001b[0m\n\u001b[0;32m   3804\u001b[0m \u001b[38;5;28;01mtry\u001b[39;00m:\n\u001b[1;32m-> 3805\u001b[0m     \u001b[38;5;28;01mreturn\u001b[39;00m \u001b[38;5;28mself\u001b[39m\u001b[38;5;241m.\u001b[39m_engine\u001b[38;5;241m.\u001b[39mget_loc(casted_key)\n\u001b[0;32m   3806\u001b[0m \u001b[38;5;28;01mexcept\u001b[39;00m \u001b[38;5;167;01mKeyError\u001b[39;00m \u001b[38;5;28;01mas\u001b[39;00m err:\n",
      "File \u001b[1;32mindex.pyx:167\u001b[0m, in \u001b[0;36mpandas._libs.index.IndexEngine.get_loc\u001b[1;34m()\u001b[0m\n",
      "File \u001b[1;32mindex.pyx:196\u001b[0m, in \u001b[0;36mpandas._libs.index.IndexEngine.get_loc\u001b[1;34m()\u001b[0m\n",
      "File \u001b[1;32mpandas\\\\_libs\\\\hashtable_class_helper.pxi:7081\u001b[0m, in \u001b[0;36mpandas._libs.hashtable.PyObjectHashTable.get_item\u001b[1;34m()\u001b[0m\n",
      "File \u001b[1;32mpandas\\\\_libs\\\\hashtable_class_helper.pxi:7089\u001b[0m, in \u001b[0;36mpandas._libs.hashtable.PyObjectHashTable.get_item\u001b[1;34m()\u001b[0m\n",
      "\u001b[1;31mKeyError\u001b[0m: 'Predicted_Label'",
      "\nThe above exception was the direct cause of the following exception:\n",
      "\u001b[1;31mKeyError\u001b[0m                                  Traceback (most recent call last)",
      "Cell \u001b[1;32mIn[27], line 2\u001b[0m\n\u001b[0;32m      1\u001b[0m \u001b[38;5;66;03m# Contar cuántas noticias se asignaron como 1 (verdaderas) y 0 (falsas)\u001b[39;00m\n\u001b[1;32m----> 2\u001b[0m label_counts \u001b[38;5;241m=\u001b[39m news_test[\u001b[38;5;124m'\u001b[39m\u001b[38;5;124mPredicted_Label\u001b[39m\u001b[38;5;124m'\u001b[39m]\u001b[38;5;241m.\u001b[39mvalue_counts()\n\u001b[0;32m      3\u001b[0m \u001b[38;5;28mprint\u001b[39m(\u001b[38;5;124m\"\u001b[39m\u001b[38;5;124mNoticias asignadas como Falsas (0):\u001b[39m\u001b[38;5;124m\"\u001b[39m, label_counts\u001b[38;5;241m.\u001b[39mget(\u001b[38;5;241m0\u001b[39m, \u001b[38;5;241m0\u001b[39m))\n\u001b[0;32m      4\u001b[0m \u001b[38;5;28mprint\u001b[39m(\u001b[38;5;124m\"\u001b[39m\u001b[38;5;124mNoticias asignadas como Verdaderas (1):\u001b[39m\u001b[38;5;124m\"\u001b[39m, label_counts\u001b[38;5;241m.\u001b[39mget(\u001b[38;5;241m1\u001b[39m, \u001b[38;5;241m0\u001b[39m))\n",
      "File \u001b[1;32mc:\\Users\\wired\\anaconda3\\Lib\\site-packages\\pandas\\core\\frame.py:4102\u001b[0m, in \u001b[0;36mDataFrame.__getitem__\u001b[1;34m(self, key)\u001b[0m\n\u001b[0;32m   4100\u001b[0m \u001b[38;5;28;01mif\u001b[39;00m \u001b[38;5;28mself\u001b[39m\u001b[38;5;241m.\u001b[39mcolumns\u001b[38;5;241m.\u001b[39mnlevels \u001b[38;5;241m>\u001b[39m \u001b[38;5;241m1\u001b[39m:\n\u001b[0;32m   4101\u001b[0m     \u001b[38;5;28;01mreturn\u001b[39;00m \u001b[38;5;28mself\u001b[39m\u001b[38;5;241m.\u001b[39m_getitem_multilevel(key)\n\u001b[1;32m-> 4102\u001b[0m indexer \u001b[38;5;241m=\u001b[39m \u001b[38;5;28mself\u001b[39m\u001b[38;5;241m.\u001b[39mcolumns\u001b[38;5;241m.\u001b[39mget_loc(key)\n\u001b[0;32m   4103\u001b[0m \u001b[38;5;28;01mif\u001b[39;00m is_integer(indexer):\n\u001b[0;32m   4104\u001b[0m     indexer \u001b[38;5;241m=\u001b[39m [indexer]\n",
      "File \u001b[1;32mc:\\Users\\wired\\anaconda3\\Lib\\site-packages\\pandas\\core\\indexes\\base.py:3812\u001b[0m, in \u001b[0;36mIndex.get_loc\u001b[1;34m(self, key)\u001b[0m\n\u001b[0;32m   3807\u001b[0m     \u001b[38;5;28;01mif\u001b[39;00m \u001b[38;5;28misinstance\u001b[39m(casted_key, \u001b[38;5;28mslice\u001b[39m) \u001b[38;5;129;01mor\u001b[39;00m (\n\u001b[0;32m   3808\u001b[0m         \u001b[38;5;28misinstance\u001b[39m(casted_key, abc\u001b[38;5;241m.\u001b[39mIterable)\n\u001b[0;32m   3809\u001b[0m         \u001b[38;5;129;01mand\u001b[39;00m \u001b[38;5;28many\u001b[39m(\u001b[38;5;28misinstance\u001b[39m(x, \u001b[38;5;28mslice\u001b[39m) \u001b[38;5;28;01mfor\u001b[39;00m x \u001b[38;5;129;01min\u001b[39;00m casted_key)\n\u001b[0;32m   3810\u001b[0m     ):\n\u001b[0;32m   3811\u001b[0m         \u001b[38;5;28;01mraise\u001b[39;00m InvalidIndexError(key)\n\u001b[1;32m-> 3812\u001b[0m     \u001b[38;5;28;01mraise\u001b[39;00m \u001b[38;5;167;01mKeyError\u001b[39;00m(key) \u001b[38;5;28;01mfrom\u001b[39;00m \u001b[38;5;21;01merr\u001b[39;00m\n\u001b[0;32m   3813\u001b[0m \u001b[38;5;28;01mexcept\u001b[39;00m \u001b[38;5;167;01mTypeError\u001b[39;00m:\n\u001b[0;32m   3814\u001b[0m     \u001b[38;5;66;03m# If we have a listlike key, _check_indexing_error will raise\u001b[39;00m\n\u001b[0;32m   3815\u001b[0m     \u001b[38;5;66;03m#  InvalidIndexError. Otherwise we fall through and re-raise\u001b[39;00m\n\u001b[0;32m   3816\u001b[0m     \u001b[38;5;66;03m#  the TypeError.\u001b[39;00m\n\u001b[0;32m   3817\u001b[0m     \u001b[38;5;28mself\u001b[39m\u001b[38;5;241m.\u001b[39m_check_indexing_error(key)\n",
      "\u001b[1;31mKeyError\u001b[0m: 'Predicted_Label'"
     ]
    }
   ],
   "source": [
    "# Contar cuántas noticias se asignaron como 1 (verdaderas) y 0 (falsas)\n",
    "label_counts = news_test['Predicted_Label'].value_counts()\n",
    "print(\"Noticias asignadas como Falsas (0):\", label_counts.get(0, 0))\n",
    "print(\"Noticias asignadas como Verdaderas (1):\", label_counts.get(1, 0))"
   ]
  },
  {
   "cell_type": "markdown",
   "id": "a6550735",
   "metadata": {},
   "source": [
    "# Modelo 2: Random Forest"
   ]
  },
  {
   "cell_type": "markdown",
   "id": "a4ab2ff2",
   "metadata": {},
   "source": [
    "### Realizado por Mateo Parra"
   ]
  },
  {
   "cell_type": "code",
   "execution_count": 29,
   "id": "aca4a926-aa15-4d8b-b8fd-cae899330905",
   "metadata": {},
   "outputs": [
    {
     "name": "stdout",
     "output_type": "stream",
     "text": [
      "Precisión del modelo Random Forest: 0.9153171191331488\n",
      "\n",
      "Reporte de clasificación:\n",
      "                precision    recall  f1-score   support\n",
      "\n",
      "    Falsa (0)       0.93      0.86      0.90      7185\n",
      "Verdadera (1)       0.90      0.95      0.93      9796\n",
      "\n",
      "     accuracy                           0.92     16981\n",
      "    macro avg       0.92      0.91      0.91     16981\n",
      " weighted avg       0.92      0.92      0.91     16981\n",
      "\n"
     ]
    }
   ],
   "source": [
    "from sklearn.ensemble import RandomForestClassifier\n",
    "from sklearn.metrics import accuracy_score, classification_report\n",
    "from sklearn.model_selection import train_test_split\n",
    "from sklearn.feature_extraction.text import TfidfVectorizer\n",
    "\n",
    "\n",
    "\n",
    "\n",
    "X_data = news['combined_text']\n",
    "y_data = news['Label']\n",
    "\n",
    "# Dividir en 70% entrenamiento y 30% prueba\n",
    "X_train, X_test, y_train, y_test = train_test_split(X_data, y_data, test_size=0.3, random_state=42)\n",
    "\n",
    "# Transformar el texto en vectores numéricos usando TF-IDF\n",
    "tfidf = TfidfVectorizer(max_features=5000)\n",
    "X_train_tfidf = tfidf.fit_transform(X_train)\n",
    "X_test_tfidf = tfidf.transform(X_test)\n",
    "\n",
    "# Crear y entrenar el modelo de Random Forest\n",
    "rf_model = RandomForestClassifier(n_estimators=100, random_state=42)\n",
    "rf_model.fit(X_train_tfidf, y_train)\n",
    "\n",
    "# Realizar predicciones en el conjunto de prueba\n",
    "y_pred = rf_model.predict(X_test_tfidf)\n",
    "\n",
    "# Evaluar el desempeño del modelo\n",
    "accuracy = accuracy_score(y_test, y_pred)\n",
    "report = classification_report(y_test, y_pred, target_names=['Falsa (0)', 'Verdadera (1)'])\n",
    "\n",
    "print(\"Precisión del modelo Random Forest:\", accuracy)\n",
    "print(\"\\nReporte de clasificación:\\n\", report)\n"
   ]
  },
  {
   "cell_type": "code",
   "execution_count": 32,
   "id": "11bc3329",
   "metadata": {},
   "outputs": [
    {
     "data": {
      "image/png": "[encoded data removed]",
      "text/plain": [
       "<Figure size 600x400 with 2 Axes>"
      ]
     },
     "metadata": {},
     "output_type": "display_data"
    }
   ],
   "source": [
    "import matplotlib.pyplot as plt\n",
    "import seaborn as sns\n",
    "import pandas as pd\n",
    "from sklearn.metrics import confusion_matrix, classification_report\n",
    "\n",
    "# Crear la matriz de confusión\n",
    "cm = confusion_matrix(y_test, y_pred)\n",
    "\n",
    "# Visualización de la matriz de confusión\n",
    "plt.figure(figsize=(6, 4))\n",
    "sns.heatmap(cm, annot=True, fmt=\"d\", cmap=\"Blues\", \n",
    "            xticklabels=['Falsa (0)', 'Verdadera (1)'], \n",
    "            yticklabels=['Falsa (0)', 'Verdadera (1)'])\n",
    "plt.xlabel(\"Predicción\")\n",
    "plt.ylabel(\"Valor Real\")\n",
    "plt.title(\"Matriz de Confusión - Random Forest\")\n",
    "plt.show()\n",
    "\n",
    "\n",
    "\n"
   ]
  },
  {
   "cell_type": "markdown",
   "id": "08f94014",
   "metadata": {},
   "source": [
    "### Test"
   ]
  },
  {
   "cell_type": "code",
   "execution_count": null,
   "id": "6b8b7318",
   "metadata": {},
   "outputs": [
    {
     "name": "stdout",
     "output_type": "stream",
     "text": [
      "                                              Titulo  Predicted_Label\n",
      "0  La mesa del congreso censura un encuentro inte...                0\n",
      "1  La brecha digital que dificulta el acceso de a...                1\n",
      "2  PP apremia al EQUO a presentar una propuesta d...                0\n",
      "3  De soberano garante de la democracia a rey cor...                1\n",
      "4  El Gobierno aprobarÃ¡ este martes detraer los ...                1\n"
     ]
    }
   ],
   "source": [
    "import pandas as pd\n",
    "\n",
    "# Cargar el archivo de test\n",
    "test = pd.read_csv(\"fake_news_test.csv\", sep=\";\", encoding=\"ISO-8859-1\")\n",
    "\n",
    "\n",
    "test['Titulo_clean'] = test['Titulo'].apply(preprocessing)\n",
    "test['Descripcion_clean'] = test['Descripcion'].apply(preprocessing)\n",
    "\n",
    "test['combined_text'] = test['Titulo_clean'] + \" \" + test['Descripcion_clean']\n",
    "\n",
    "\n",
    "X_test_new = tfidf.transform(test['combined_text'])\n",
    "\n",
    "\n",
    "predictions = rf_model.predict(X_test_new)\n",
    "\n",
    "\n",
    "test['Predicted_Label'] = predictions\n",
    "\n",
    "\n",
    "print(test[['Titulo', 'Predicted_Label']].head())\n",
    "\n",
    "\n",
    "test.to_csv(\"fake_news_test_predictions.csv\", index=False)\n"
   ]
  }
 ],
 "metadata": {
  "kernelspec": {
   "display_name": "base",
   "language": "python",
   "name": "python3"
  },
  "language_info": {
   "codemirror_mode": {
    "name": "ipython",
    "version": 3
   },
   "file_extension": ".py",
   "mimetype": "text/x-python",
   "name": "python",
   "nbconvert_exporter": "python",
   "pygments_lexer": "ipython3",
   "version": "3.12.7"
  }
 },
 "nbformat": 4,
 "nbformat_minor": 5
}
